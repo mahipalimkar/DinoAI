{
 "cells": [
  {
   "cell_type": "code",
   "execution_count": 1,
   "id": "fdc9f0ae-2268-4125-babb-d7eb62c1572d",
   "metadata": {},
   "outputs": [
    {
     "name": "stdout",
     "output_type": "stream",
     "text": [
      "Looking in indexes: https://download.pytorch.org/whl/cu126"
     ]
    },
    {
     "name": "stderr",
     "output_type": "stream",
     "text": [
      "\n",
      "[notice] A new release of pip is available: 25.0.1 -> 25.1.1\n",
      "[notice] To update, run: python.exe -m pip install --upgrade pip\n"
     ]
    },
    {
     "name": "stdout",
     "output_type": "stream",
     "text": [
      "\n",
      "Requirement already satisfied: torch in c:\\users\\mahi\\appdata\\local\\programs\\python\\python312\\lib\\site-packages (2.4.0)\n",
      "Requirement already satisfied: torchvision in c:\\users\\mahi\\appdata\\local\\programs\\python\\python312\\lib\\site-packages (0.19.0)\n",
      "Requirement already satisfied: torchaudio in c:\\users\\mahi\\appdata\\local\\programs\\python\\python312\\lib\\site-packages (2.4.0)\n",
      "Requirement already satisfied: filelock in c:\\users\\mahi\\appdata\\local\\programs\\python\\python312\\lib\\site-packages (from torch) (3.15.3)\n",
      "Requirement already satisfied: typing-extensions>=4.8.0 in c:\\users\\mahi\\appdata\\local\\programs\\python\\python312\\lib\\site-packages (from torch) (4.12.2)\n",
      "Requirement already satisfied: sympy in c:\\users\\mahi\\appdata\\local\\programs\\python\\python312\\lib\\site-packages (from torch) (1.13.1)\n",
      "Requirement already satisfied: networkx in c:\\users\\mahi\\appdata\\local\\programs\\python\\python312\\lib\\site-packages (from torch) (3.3)\n",
      "Requirement already satisfied: jinja2 in c:\\users\\mahi\\appdata\\local\\programs\\python\\python312\\lib\\site-packages (from torch) (3.1.4)\n",
      "Requirement already satisfied: fsspec in c:\\users\\mahi\\appdata\\local\\programs\\python\\python312\\lib\\site-packages (from torch) (2024.5.0)\n",
      "Requirement already satisfied: setuptools in c:\\users\\mahi\\appdata\\local\\programs\\python\\python312\\lib\\site-packages (from torch) (70.0.0)\n",
      "Requirement already satisfied: numpy<2 in c:\\users\\mahi\\appdata\\local\\programs\\python\\python312\\lib\\site-packages (from torchvision) (1.26.4)\n",
      "Requirement already satisfied: pillow!=8.3.*,>=5.3.0 in c:\\users\\mahi\\appdata\\local\\programs\\python\\python312\\lib\\site-packages (from torchvision) (10.3.0)\n",
      "Requirement already satisfied: MarkupSafe>=2.0 in c:\\users\\mahi\\appdata\\local\\programs\\python\\python312\\lib\\site-packages (from jinja2->torch) (2.1.5)\n",
      "Requirement already satisfied: mpmath<1.4,>=1.1.0 in c:\\users\\mahi\\appdata\\local\\programs\\python\\python312\\lib\\site-packages (from sympy->torch) (1.3.0)\n"
     ]
    }
   ],
   "source": [
    "!pip install torch torchvision torchaudio --index-url https://download.pytorch.org/whl/cu126"
   ]
  },
  {
   "cell_type": "code",
   "execution_count": 2,
   "id": "8da122b8-c856-4ffb-b6ed-ff037edefb5a",
   "metadata": {},
   "outputs": [
    {
     "name": "stdout",
     "output_type": "stream",
     "text": [
      "Requirement already satisfied: protobuf==3.20.* in c:\\users\\mahi\\appdata\\local\\programs\\python\\python312\\lib\\site-packages (3.20.3)\n",
      "Requirement already satisfied: stable-baselines3[extra] in c:\\users\\mahi\\appdata\\local\\programs\\python\\python312\\lib\\site-packages (2.6.0)\n",
      "Requirement already satisfied: gymnasium<1.2.0,>=0.29.1 in c:\\users\\mahi\\appdata\\local\\programs\\python\\python312\\lib\\site-packages (from stable-baselines3[extra]) (1.1.1)\n",
      "Requirement already satisfied: numpy<3.0,>=1.20 in c:\\users\\mahi\\appdata\\local\\programs\\python\\python312\\lib\\site-packages (from stable-baselines3[extra]) (1.26.4)\n",
      "Requirement already satisfied: torch<3.0,>=2.3 in c:\\users\\mahi\\appdata\\local\\programs\\python\\python312\\lib\\site-packages (from stable-baselines3[extra]) (2.4.0)\n",
      "Requirement already satisfied: cloudpickle in c:\\users\\mahi\\appdata\\local\\programs\\python\\python312\\lib\\site-packages (from stable-baselines3[extra]) (3.1.1)\n",
      "Requirement already satisfied: pandas in c:\\users\\mahi\\appdata\\local\\programs\\python\\python312\\lib\\site-packages (from stable-baselines3[extra]) (2.2.2)\n",
      "Requirement already satisfied: matplotlib in c:\\users\\mahi\\appdata\\local\\programs\\python\\python312\\lib\\site-packages (from stable-baselines3[extra]) (3.9.0)\n",
      "Requirement already satisfied: opencv-python in c:\\users\\mahi\\appdata\\local\\programs\\python\\python312\\lib\\site-packages (from stable-baselines3[extra]) (4.9.0.80)\n",
      "Requirement already satisfied: pygame in c:\\users\\mahi\\appdata\\local\\programs\\python\\python312\\lib\\site-packages (from stable-baselines3[extra]) (2.6.1)\n",
      "Requirement already satisfied: tensorboard>=2.9.1 in c:\\users\\mahi\\appdata\\local\\programs\\python\\python312\\lib\\site-packages (from stable-baselines3[extra]) (2.16.2)\n",
      "Requirement already satisfied: psutil in c:\\users\\mahi\\appdata\\local\\programs\\python\\python312\\lib\\site-packages (from stable-baselines3[extra]) (5.9.8)\n",
      "Requirement already satisfied: tqdm in c:\\users\\mahi\\appdata\\local\\programs\\python\\python312\\lib\\site-packages (from stable-baselines3[extra]) (4.66.4)\n",
      "Requirement already satisfied: rich in c:\\users\\mahi\\appdata\\local\\programs\\python\\python312\\lib\\site-packages (from stable-baselines3[extra]) (13.7.1)\n",
      "Requirement already satisfied: ale-py>=0.9.0 in c:\\users\\mahi\\appdata\\local\\programs\\python\\python312\\lib\\site-packages (from stable-baselines3[extra]) (0.11.1)\n",
      "Requirement already satisfied: pillow in c:\\users\\mahi\\appdata\\local\\programs\\python\\python312\\lib\\site-packages (from stable-baselines3[extra]) (10.3.0)\n",
      "Requirement already satisfied: typing-extensions>=4.3.0 in c:\\users\\mahi\\appdata\\local\\programs\\python\\python312\\lib\\site-packages (from gymnasium<1.2.0,>=0.29.1->stable-baselines3[extra]) (4.12.2)\n",
      "Requirement already satisfied: farama-notifications>=0.0.1 in c:\\users\\mahi\\appdata\\local\\programs\\python\\python312\\lib\\site-packages (from gymnasium<1.2.0,>=0.29.1->stable-baselines3[extra]) (0.0.4)\n",
      "Requirement already satisfied: absl-py>=0.4 in c:\\users\\mahi\\appdata\\local\\programs\\python\\python312\\lib\\site-packages (from tensorboard>=2.9.1->stable-baselines3[extra]) (2.1.0)\n",
      "Requirement already satisfied: grpcio>=1.48.2 in c:\\users\\mahi\\appdata\\local\\programs\\python\\python312\\lib\\site-packages (from tensorboard>=2.9.1->stable-baselines3[extra]) (1.64.1)\n",
      "Requirement already satisfied: markdown>=2.6.8 in c:\\users\\mahi\\appdata\\local\\programs\\python\\python312\\lib\\site-packages (from tensorboard>=2.9.1->stable-baselines3[extra]) (3.6)\n",
      "Requirement already satisfied: setuptools>=41.0.0 in c:\\users\\mahi\\appdata\\local\\programs\\python\\python312\\lib\\site-packages (from tensorboard>=2.9.1->stable-baselines3[extra]) (70.0.0)\n",
      "Requirement already satisfied: six>1.9 in c:\\users\\mahi\\appdata\\local\\programs\\python\\python312\\lib\\site-packages (from tensorboard>=2.9.1->stable-baselines3[extra]) (1.16.0)\n",
      "Requirement already satisfied: tensorboard-data-server<0.8.0,>=0.7.0 in c:\\users\\mahi\\appdata\\local\\programs\\python\\python312\\lib\\site-packages (from tensorboard>=2.9.1->stable-baselines3[extra]) (0.7.2)\n",
      "Requirement already satisfied: werkzeug>=1.0.1 in c:\\users\\mahi\\appdata\\local\\programs\\python\\python312\\lib\\site-packages (from tensorboard>=2.9.1->stable-baselines3[extra]) (3.0.3)\n",
      "Requirement already satisfied: filelock in c:\\users\\mahi\\appdata\\local\\programs\\python\\python312\\lib\\site-packages (from torch<3.0,>=2.3->stable-baselines3[extra]) (3.15.3)\n",
      "Requirement already satisfied: sympy in c:\\users\\mahi\\appdata\\local\\programs\\python\\python312\\lib\\site-packages (from torch<3.0,>=2.3->stable-baselines3[extra]) (1.13.1)\n",
      "Requirement already satisfied: networkx in c:\\users\\mahi\\appdata\\local\\programs\\python\\python312\\lib\\site-packages (from torch<3.0,>=2.3->stable-baselines3[extra]) (3.3)\n",
      "Requirement already satisfied: jinja2 in c:\\users\\mahi\\appdata\\local\\programs\\python\\python312\\lib\\site-packages (from torch<3.0,>=2.3->stable-baselines3[extra]) (3.1.4)\n",
      "Requirement already satisfied: fsspec in c:\\users\\mahi\\appdata\\local\\programs\\python\\python312\\lib\\site-packages (from torch<3.0,>=2.3->stable-baselines3[extra]) (2024.5.0)\n",
      "Requirement already satisfied: contourpy>=1.0.1 in c:\\users\\mahi\\appdata\\local\\programs\\python\\python312\\lib\\site-packages (from matplotlib->stable-baselines3[extra]) (1.2.1)\n",
      "Requirement already satisfied: cycler>=0.10 in c:\\users\\mahi\\appdata\\local\\programs\\python\\python312\\lib\\site-packages (from matplotlib->stable-baselines3[extra]) (0.12.1)\n",
      "Requirement already satisfied: fonttools>=4.22.0 in c:\\users\\mahi\\appdata\\local\\programs\\python\\python312\\lib\\site-packages (from matplotlib->stable-baselines3[extra]) (4.53.0)\n",
      "Requirement already satisfied: kiwisolver>=1.3.1 in c:\\users\\mahi\\appdata\\local\\programs\\python\\python312\\lib\\site-packages (from matplotlib->stable-baselines3[extra]) (1.4.5)\n",
      "Requirement already satisfied: packaging>=20.0 in c:\\users\\mahi\\appdata\\local\\programs\\python\\python312\\lib\\site-packages (from matplotlib->stable-baselines3[extra]) (24.1)\n",
      "Requirement already satisfied: pyparsing>=2.3.1 in c:\\users\\mahi\\appdata\\local\\programs\\python\\python312\\lib\\site-packages (from matplotlib->stable-baselines3[extra]) (3.1.2)\n",
      "Requirement already satisfied: python-dateutil>=2.7 in c:\\users\\mahi\\appdata\\local\\programs\\python\\python312\\lib\\site-packages (from matplotlib->stable-baselines3[extra]) (2.9.0.post0)\n",
      "Requirement already satisfied: pytz>=2020.1 in c:\\users\\mahi\\appdata\\local\\programs\\python\\python312\\lib\\site-packages (from pandas->stable-baselines3[extra]) (2024.1)\n",
      "Requirement already satisfied: tzdata>=2022.7 in c:\\users\\mahi\\appdata\\local\\programs\\python\\python312\\lib\\site-packages (from pandas->stable-baselines3[extra]) (2024.1)\n",
      "Requirement already satisfied: markdown-it-py>=2.2.0 in c:\\users\\mahi\\appdata\\local\\programs\\python\\python312\\lib\\site-packages (from rich->stable-baselines3[extra]) (3.0.0)\n",
      "Requirement already satisfied: pygments<3.0.0,>=2.13.0 in c:\\users\\mahi\\appdata\\local\\programs\\python\\python312\\lib\\site-packages (from rich->stable-baselines3[extra]) (2.18.0)\n",
      "Requirement already satisfied: colorama in c:\\users\\mahi\\appdata\\local\\programs\\python\\python312\\lib\\site-packages (from tqdm->stable-baselines3[extra]) (0.4.6)\n",
      "Requirement already satisfied: mdurl~=0.1 in c:\\users\\mahi\\appdata\\local\\programs\\python\\python312\\lib\\site-packages (from markdown-it-py>=2.2.0->rich->stable-baselines3[extra]) (0.1.2)\n",
      "Requirement already satisfied: MarkupSafe>=2.1.1 in c:\\users\\mahi\\appdata\\local\\programs\\python\\python312\\lib\\site-packages (from werkzeug>=1.0.1->tensorboard>=2.9.1->stable-baselines3[extra]) (2.1.5)\n",
      "Requirement already satisfied: mpmath<1.4,>=1.1.0 in c:\\users\\mahi\\appdata\\local\\programs\\python\\python312\\lib\\site-packages (from sympy->torch<3.0,>=2.3->stable-baselines3[extra]) (1.3.0)\n",
      "Note: you may need to restart the kernel to use updated packages.\n"
     ]
    },
    {
     "name": "stderr",
     "output_type": "stream",
     "text": [
      "\n",
      "[notice] A new release of pip is available: 25.0.1 -> 25.1.1\n",
      "[notice] To update, run: python.exe -m pip install --upgrade pip\n"
     ]
    }
   ],
   "source": [
    "%pip install \"stable-baselines3[extra]\" protobuf==3.20.*\n"
   ]
  },
  {
   "cell_type": "code",
   "execution_count": 3,
   "id": "efda4e08-f532-46c3-ad59-3aafd6aa9c71",
   "metadata": {},
   "outputs": [
    {
     "name": "stdout",
     "output_type": "stream",
     "text": [
      "Requirement already satisfied: mss in c:\\users\\mahi\\appdata\\local\\programs\\python\\python312\\lib\\site-packages (10.0.0)\n",
      "Requirement already satisfied: pydirectinput in c:\\users\\mahi\\appdata\\local\\programs\\python\\python312\\lib\\site-packages (1.0.4)\n",
      "Requirement already satisfied: pytesseract in c:\\users\\mahi\\appdata\\local\\programs\\python\\python312\\lib\\site-packages (0.3.13)\n",
      "Requirement already satisfied: packaging>=21.3 in c:\\users\\mahi\\appdata\\local\\programs\\python\\python312\\lib\\site-packages (from pytesseract) (24.1)\n",
      "Requirement already satisfied: Pillow>=8.0.0 in c:\\users\\mahi\\appdata\\local\\programs\\python\\python312\\lib\\site-packages (from pytesseract) (10.3.0)\n",
      "Note: you may need to restart the kernel to use updated packages.\n"
     ]
    },
    {
     "name": "stderr",
     "output_type": "stream",
     "text": [
      "\n",
      "[notice] A new release of pip is available: 25.0.1 -> 25.1.1\n",
      "[notice] To update, run: python.exe -m pip install --upgrade pip\n"
     ]
    }
   ],
   "source": [
    "%pip install mss pydirectinput pytesseract\n"
   ]
  },
  {
   "cell_type": "code",
   "execution_count": 4,
   "id": "3bee85f3-8263-476a-9deb-ad8d7f8aa4b2",
   "metadata": {},
   "outputs": [
    {
     "name": "stdout",
     "output_type": "stream",
     "text": [
      "Requirement already satisfied: gym in c:\\users\\mahi\\appdata\\local\\programs\\python\\python312\\lib\\site-packages (0.26.2)\n",
      "Requirement already satisfied: numpy>=1.18.0 in c:\\users\\mahi\\appdata\\local\\programs\\python\\python312\\lib\\site-packages (from gym) (1.26.4)\n",
      "Requirement already satisfied: cloudpickle>=1.2.0 in c:\\users\\mahi\\appdata\\local\\programs\\python\\python312\\lib\\site-packages (from gym) (3.1.1)\n",
      "Requirement already satisfied: gym_notices>=0.0.4 in c:\\users\\mahi\\appdata\\local\\programs\\python\\python312\\lib\\site-packages (from gym) (0.0.8)\n",
      "Note: you may need to restart the kernel to use updated packages.\n"
     ]
    },
    {
     "name": "stderr",
     "output_type": "stream",
     "text": [
      "\n",
      "[notice] A new release of pip is available: 25.0.1 -> 25.1.1\n",
      "[notice] To update, run: python.exe -m pip install --upgrade pip\n"
     ]
    }
   ],
   "source": [
    "%pip install gym"
   ]
  },
  {
   "cell_type": "code",
   "execution_count": 5,
   "id": "a8ae2b28-90d3-4f91-a12d-c348d652ec17",
   "metadata": {},
   "outputs": [],
   "source": [
    "from mss import mss\n",
    "import pydirectinput\n",
    "import cv2\n",
    "import numpy as np\n",
    "import pytesseract\n",
    "from matplotlib import pyplot as plt\n",
    "import time\n",
    "from gymnasium import Env\n",
    "from gymnasium.spaces import Box, Discrete"
   ]
  },
  {
   "cell_type": "code",
   "execution_count": 95,
   "id": "64e7ad3d-e65e-482f-8713-e30aa62b4746",
   "metadata": {},
   "outputs": [],
   "source": [
    "class WebGame(Env):\n",
    "    def __init__(self):\n",
    "        super().__init__()\n",
    "        # Setup spaces\n",
    "        self.observation_space = Box(low=0, high=255, shape=(1,83,100), dtype=np.uint8)\n",
    "        self.action_space = Discrete(3)\n",
    "        # Capture game frames\n",
    "        self.cap = mss()\n",
    "        self.game_location = {'top': 300, 'left': 0, 'width': 600, 'height': 500}\n",
    "        self.done_location = {'top': 405, 'left': 630, 'width': 660, 'height': 70}\n",
    "\n",
    "    def step(self, action):\n",
    "        pass\n",
    "        action_map = {\n",
    "            0:'space',\n",
    "            1: 'down', \n",
    "            2: 'no_op'\n",
    "        }\n",
    "        if action !=2:\n",
    "            pydirectinput.press(action_map[action])\n",
    "\n",
    "        res,done, done_cap = self.get_done() \n",
    "        observation = self.get_observation()\n",
    "        reward = 1 \n",
    "        info = {}\n",
    "        return observation, reward, done, info\n",
    "\n",
    "    def reset(self):\n",
    "        time.sleep(1)\n",
    "        pydirectinput.click(x=150, y=150)\n",
    "        pydirectinput.press('space')\n",
    "        return self.get_observation()\n",
    "\n",
    "    def render(self):\n",
    "        \n",
    "        screenshot = self.cap.grab(self.game_location)\n",
    "        if screenshot is None:\n",
    "            print(\"Failed to capture screen - check your game_location coordinates\")\n",
    "            return\n",
    "    \n",
    "        img_array = np.array(screenshot)[:,:,:3]\n",
    "        cv2.imshow('Game', img_array)\n",
    "    \n",
    "        if cv2.waitKey(1) & 0xFF == ord('q'):\n",
    "            self.close()\n",
    "    \n",
    "        if cv2.waitKey(1) & 0xFF == ord('q'):\n",
    "            self.close()\n",
    "         \n",
    "    def close(self):\n",
    "        cv2.destroyAllWindows()\n",
    "    \n",
    "    def get_observation(self):\n",
    "        raw = np.array(self.cap.grab(self.game_location))[:,:,:3].astype(np.uint8)\n",
    "        gray = cv2.cvtColor(raw, cv2.COLOR_BGR2GRAY)\n",
    "        resized = cv2.resize(gray, (100,83))\n",
    "        channel = np.reshape(resized, (1,83,100))\n",
    "        return channel\n",
    "    \n",
    "    def get_done(self):\n",
    "        done_cap = np.array(self.cap.grab(self.done_location))[:,:,:3]\n",
    "        done_strings = ['GAME', 'GAHE']\n",
    "        done=False\n",
    "        res = pytesseract.image_to_string(done_cap)[:4]\n",
    "        if res in done_strings:\n",
    "            done = True\n",
    "        return res,done, done_cap\n",
    "        \n",
    "    "
   ]
  },
  {
   "cell_type": "code",
   "execution_count": 96,
   "id": "47e1c8ff-a916-46d2-906c-5c5fde95a551",
   "metadata": {},
   "outputs": [],
   "source": [
    "env=WebGame()"
   ]
  },
  {
   "cell_type": "code",
   "execution_count": 97,
   "id": "3e6c531e-0f56-4b84-baff-9046fc8165b5",
   "metadata": {},
   "outputs": [],
   "source": [
    "# obs=env.get_observation()\n"
   ]
  },
  {
   "cell_type": "code",
   "execution_count": 98,
   "id": "30feba7f-f531-4ab9-b724-e755d587cd2f",
   "metadata": {},
   "outputs": [],
   "source": [
    "env.render()"
   ]
  },
  {
   "cell_type": "code",
   "execution_count": 99,
   "id": "f33296ab-ea38-4eaf-bc21-e8330a9305a4",
   "metadata": {},
   "outputs": [],
   "source": [
    "env.close()"
   ]
  },
  {
   "cell_type": "code",
   "execution_count": 100,
   "id": "901686bb-ed83-4867-89a4-ca52d8fa6f5b",
   "metadata": {},
   "outputs": [],
   "source": [
    "import pytesseract\n",
    "pytesseract.pytesseract.tesseract_cmd = r'C:\\\\Program Files\\\\Tesseract-OCR\\\\tesseract.exe'"
   ]
  },
  {
   "cell_type": "code",
   "execution_count": 103,
   "id": "ff43c44c-aef4-45d2-8bef-af7a8af11521",
   "metadata": {},
   "outputs": [],
   "source": [
    "res,done,done_cap=env.get_done()"
   ]
  },
  {
   "cell_type": "code",
   "execution_count": 104,
   "id": "f8b633a9-c2ca-41ad-846f-e5880bdea90a",
   "metadata": {},
   "outputs": [
    {
     "data": {
      "text/plain": [
       "'GAME'"
      ]
     },
     "execution_count": 104,
     "metadata": {},
     "output_type": "execute_result"
    }
   ],
   "source": [
    "res"
   ]
  },
  {
   "cell_type": "code",
   "execution_count": 105,
   "id": "e16d7a51-82df-402f-bf20-02a84d8fc639",
   "metadata": {},
   "outputs": [
    {
     "data": {
      "text/plain": [
       "<matplotlib.image.AxesImage at 0x1a0fdc1a2d0>"
      ]
     },
     "execution_count": 105,
     "metadata": {},
     "output_type": "execute_result"
    },
    {
     "data": {
      "image/png": "[encoded data removed]",
      "text/plain": [
       "<Figure size 640x480 with 1 Axes>"
      ]
     },
     "metadata": {},
     "output_type": "display_data"
    }
   ],
   "source": [
    "plt.imshow(done_cap)"
   ]
  },
  {
   "cell_type": "code",
   "execution_count": 106,
   "id": "ecc96661-05a7-4d17-a09e-750a3f05daf1",
   "metadata": {},
   "outputs": [],
   "source": [
    "#testing our environment"
   ]
  },
  {
   "cell_type": "code",
   "execution_count": 107,
   "id": "7000fb32-4f3c-4c12-9620-0abfc61d2be1",
   "metadata": {},
   "outputs": [],
   "source": [
    "env=WebGame()"
   ]
  },
  {
   "cell_type": "code",
   "execution_count": 108,
   "id": "d7b3a4c9-279e-44f7-89dc-6706f606e655",
   "metadata": {},
   "outputs": [],
   "source": [
    "obs=env.get_observation()"
   ]
  },
  {
   "cell_type": "code",
   "execution_count": 109,
   "id": "00aa2b05-391f-4c06-a12b-1ef15120378e",
   "metadata": {},
   "outputs": [
    {
     "data": {
      "text/plain": [
       "<matplotlib.image.AxesImage at 0x1a0ff5ae090>"
      ]
     },
     "execution_count": 109,
     "metadata": {},
     "output_type": "execute_result"
    },
    {
     "data": {
      "image/png": "[encoded data removed]",
      "text/plain": [
       "<Figure size 640x480 with 1 Axes>"
      ]
     },
     "metadata": {},
     "output_type": "display_data"
    }
   ],
   "source": [
    "plt.imshow(cv2.cvtColor(obs[0],cv2.COLOR_BGR2RGB))"
   ]
  },
  {
   "cell_type": "code",
   "execution_count": 110,
   "id": "1c1b829a-7550-406a-b43e-5c404e9bcefc",
   "metadata": {},
   "outputs": [],
   "source": [
    "import pytesseract\n",
    "pytesseract.pytesseract.tesseract_cmd = r'C:\\\\Program Files\\\\Tesseract-OCR\\\\tesseract.exe'"
   ]
  },
  {
   "cell_type": "code",
   "execution_count": 111,
   "id": "18ac7788-2276-420f-9d91-1432873febbf",
   "metadata": {},
   "outputs": [
    {
     "name": "stdout",
     "output_type": "stream",
     "text": [
      "True\n",
      "GAME\n"
     ]
    }
   ],
   "source": [
    "res, done, done_cap = env.get_done()\n",
    "print(done)\n",
    "result = pytesseract.image_to_string(done_cap)[:4]\n",
    "print(result)"
   ]
  },
  {
   "cell_type": "code",
   "execution_count": null,
   "id": "09984cc5-1af2-4a29-9a5b-55260ced4da8",
   "metadata": {},
   "outputs": [],
   "source": [
    "for episode in range(10):\n",
    "    obs=env.reset()\n",
    "    done=False\n",
    "    total_reward=0\n",
    "\n",
    "    while not done:\n",
    "        obs,reward,done,info=env.step(env.action_space.sample())\n",
    "        total_reward+=reward\n",
    "        print(f'Total reward for episode {episode} is {total_reward}')"
   ]
  },
  {
   "cell_type": "code",
   "execution_count": null,
   "id": "5c6c2389-eb00-42ce-932e-62e26339120c",
   "metadata": {},
   "outputs": [],
   "source": []
  },
  {
   "cell_type": "code",
   "execution_count": null,
   "id": "8294ec2d-25ac-4e10-b09c-c4f2cdf767b0",
   "metadata": {},
   "outputs": [],
   "source": []
  },
  {
   "cell_type": "code",
   "execution_count": null,
   "id": "791c9531-d9e9-435e-9aee-423b4cb0e349",
   "metadata": {},
   "outputs": [],
   "source": []
  },
  {
   "cell_type": "code",
   "execution_count": null,
   "id": "cd3885a6-3441-43b9-80c6-8b641b575581",
   "metadata": {},
   "outputs": [],
   "source": []
  },
  {
   "cell_type": "code",
   "execution_count": null,
   "id": "d076a046-867e-447c-8000-feb9f954319a",
   "metadata": {},
   "outputs": [],
   "source": []
  },
  {
   "cell_type": "code",
   "execution_count": null,
   "id": "ae971c16-c81c-4a9d-a8a0-e0db536764a9",
   "metadata": {},
   "outputs": [],
   "source": []
  },
  {
   "cell_type": "code",
   "execution_count": null,
   "id": "b7b38fe7-7cf6-43e5-950e-752344945401",
   "metadata": {},
   "outputs": [],
   "source": []
  },
  {
   "cell_type": "code",
   "execution_count": null,
   "id": "5d0800e8-f5de-4e29-8e4e-fea24f721dd7",
   "metadata": {},
   "outputs": [],
   "source": []
  },
  {
   "cell_type": "code",
   "execution_count": null,
   "id": "42b5dc94-3970-49ef-9e56-1b318b4f7cd9",
   "metadata": {},
   "outputs": [],
   "source": []
  },
  {
   "cell_type": "code",
   "execution_count": null,
   "id": "a978642b-f139-45b9-93ff-11dad111224c",
   "metadata": {},
   "outputs": [],
   "source": []
  },
  {
   "cell_type": "code",
   "execution_count": null,
   "id": "2f14703a-e942-458c-b384-fc0208c41a9b",
   "metadata": {},
   "outputs": [],
   "source": []
  },
  {
   "cell_type": "code",
   "execution_count": null,
   "id": "691c857d-6a66-4abd-a142-799442963a83",
   "metadata": {},
   "outputs": [],
   "source": []
  },
  {
   "cell_type": "code",
   "execution_count": null,
   "id": "2544829e-5abd-4f48-b756-9887a44a0381",
   "metadata": {},
   "outputs": [],
   "source": []
  },
  {
   "cell_type": "code",
   "execution_count": null,
   "id": "ace213d8-0a19-43f7-88b6-ade8940abc10",
   "metadata": {},
   "outputs": [],
   "source": []
  },
  {
   "cell_type": "code",
   "execution_count": null,
   "id": "0d12b7cb-1c22-42ab-91bd-518232f24a48",
   "metadata": {},
   "outputs": [],
   "source": []
  },
  {
   "cell_type": "code",
   "execution_count": null,
   "id": "169a2e24-45ff-4862-b6e2-479e829b91f0",
   "metadata": {},
   "outputs": [],
   "source": []
  },
  {
   "cell_type": "code",
   "execution_count": null,
   "id": "de4a6662-27ec-4714-976e-719f6997414a",
   "metadata": {},
   "outputs": [],
   "source": []
  },
  {
   "cell_type": "code",
   "execution_count": null,
   "id": "e7ed3c3b-6fd2-424a-aec3-310b5c40ffb8",
   "metadata": {},
   "outputs": [],
   "source": []
  },
  {
   "cell_type": "code",
   "execution_count": null,
   "id": "4f2b139d-7ad5-470f-9efd-76bd9f4a27a0",
   "metadata": {},
   "outputs": [],
   "source": []
  },
  {
   "cell_type": "code",
   "execution_count": null,
   "id": "ee685c73-f97f-472c-a9a4-edc434132948",
   "metadata": {},
   "outputs": [],
   "source": []
  },
  {
   "cell_type": "code",
   "execution_count": null,
   "id": "fb8011fd-1dfe-448c-ab9d-4ca190ef5f19",
   "metadata": {},
   "outputs": [],
   "source": []
  },
  {
   "cell_type": "code",
   "execution_count": null,
   "id": "54a5e4a9-b716-4ac2-ac25-d8df5ba067cc",
   "metadata": {},
   "outputs": [],
   "source": []
  },
  {
   "cell_type": "code",
   "execution_count": null,
   "id": "75017bb1-b137-45a7-a8a2-d6eefbeacdf3",
   "metadata": {},
   "outputs": [],
   "source": []
  },
  {
   "cell_type": "code",
   "execution_count": null,
   "id": "b6ff2d53-ed56-4389-a08b-9d7ac00c7d3b",
   "metadata": {},
   "outputs": [],
   "source": []
  },
  {
   "cell_type": "code",
   "execution_count": null,
   "id": "a84b46a7-ffac-4acf-ae14-97864a29deb9",
   "metadata": {},
   "outputs": [],
   "source": []
  },
  {
   "cell_type": "code",
   "execution_count": null,
   "id": "e0d3b9d6-cb34-4823-a980-c5bc17b167ad",
   "metadata": {},
   "outputs": [],
   "source": []
  },
  {
   "cell_type": "code",
   "execution_count": null,
   "id": "06971db2-ef82-4c89-8e54-c02bf1ea0748",
   "metadata": {},
   "outputs": [],
   "source": []
  },
  {
   "cell_type": "code",
   "execution_count": null,
   "id": "2d3f3fa0-248a-4892-a9df-837a7ff2a2cc",
   "metadata": {},
   "outputs": [],
   "source": []
  },
  {
   "cell_type": "code",
   "execution_count": null,
   "id": "2bee1610-1e08-4536-8bd1-6748190b5c98",
   "metadata": {},
   "outputs": [],
   "source": []
  },
  {
   "cell_type": "code",
   "execution_count": null,
   "id": "546878ee-b393-4d01-9bcc-8afaaa672e0f",
   "metadata": {},
   "outputs": [],
   "source": []
  },
  {
   "cell_type": "code",
   "execution_count": null,
   "id": "258c1090-e306-4893-b92e-dfe4a34ced7e",
   "metadata": {},
   "outputs": [],
   "source": []
  },
  {
   "cell_type": "code",
   "execution_count": null,
   "id": "ae7a4fa1-9717-4de3-8c31-01ad14d810de",
   "metadata": {},
   "outputs": [],
   "source": []
  },
  {
   "cell_type": "code",
   "execution_count": null,
   "id": "cc21beec-7345-4461-87a9-c067d569efe9",
   "metadata": {},
   "outputs": [],
   "source": []
  },
  {
   "cell_type": "code",
   "execution_count": null,
   "id": "50866db9-c487-4dfc-bfb6-600d49b8658d",
   "metadata": {},
   "outputs": [],
   "source": []
  },
  {
   "cell_type": "code",
   "execution_count": null,
   "id": "1dc9ad57-862a-4157-aefd-982175a34390",
   "metadata": {},
   "outputs": [],
   "source": []
  },
  {
   "cell_type": "code",
   "execution_count": null,
   "id": "05067911-8207-4734-90d9-383ad7bf4a23",
   "metadata": {},
   "outputs": [],
   "source": []
  },
  {
   "cell_type": "code",
   "execution_count": null,
   "id": "5a6b29c2-7327-4660-8359-e79eb99cd882",
   "metadata": {},
   "outputs": [],
   "source": []
  },
  {
   "cell_type": "code",
   "execution_count": null,
   "id": "ceef8834-9294-42a4-8185-4d304f7db126",
   "metadata": {},
   "outputs": [],
   "source": []
  },
  {
   "cell_type": "code",
   "execution_count": null,
   "id": "6ba8faca-d7fa-41c9-87fb-d7beb11468a0",
   "metadata": {},
   "outputs": [],
   "source": []
  },
  {
   "cell_type": "code",
   "execution_count": null,
   "id": "b86ec00f-5573-46d8-ae20-003ce9951156",
   "metadata": {},
   "outputs": [],
   "source": []
  },
  {
   "cell_type": "code",
   "execution_count": null,
   "id": "48a3800a-ba19-4d78-a4bf-52b428b3c484",
   "metadata": {},
   "outputs": [],
   "source": []
  },
  {
   "cell_type": "code",
   "execution_count": null,
   "id": "5d887499-b5d9-4429-9f36-7f96c0edc26f",
   "metadata": {},
   "outputs": [],
   "source": []
  },
  {
   "cell_type": "code",
   "execution_count": null,
   "id": "c896d706-d177-4849-af0a-ad4838214a63",
   "metadata": {},
   "outputs": [],
   "source": []
  },
  {
   "cell_type": "code",
   "execution_count": null,
   "id": "8eb542e1-39eb-487f-a96e-44e49d20c38f",
   "metadata": {},
   "outputs": [],
   "source": []
  },
  {
   "cell_type": "code",
   "execution_count": null,
   "id": "448d511c-9886-4fad-8cbd-6cde2b15685e",
   "metadata": {},
   "outputs": [],
   "source": []
  },
  {
   "cell_type": "code",
   "execution_count": null,
   "id": "a146ae4e-8e99-43aa-93a2-3176e2abe103",
   "metadata": {},
   "outputs": [],
   "source": []
  },
  {
   "cell_type": "code",
   "execution_count": null,
   "id": "127fc9ea-f53b-42f7-a963-29a12d70f677",
   "metadata": {},
   "outputs": [],
   "source": []
  },
  {
   "cell_type": "code",
   "execution_count": null,
   "id": "8f9b7572-ee37-4cec-b3c0-ebdd9314c51f",
   "metadata": {},
   "outputs": [],
   "source": []
  },
  {
   "cell_type": "code",
   "execution_count": null,
   "id": "d855dfdd-35c6-4383-b82c-ba99d28d5f0d",
   "metadata": {},
   "outputs": [],
   "source": []
  }
 ],
 "metadata": {
  "kernelspec": {
   "display_name": "Python 3 (ipykernel)",
   "language": "python",
   "name": "python3"
  },
  "language_info": {
   "codemirror_mode": {
    "name": "ipython",
    "version": 3
   },
   "file_extension": ".py",
   "mimetype": "text/x-python",
   "name": "python",
   "nbconvert_exporter": "python",
   "pygments_lexer": "ipython3",
   "version": "3.12.2"
  }
 },
 "nbformat": 4,
 "nbformat_minor": 5
}
